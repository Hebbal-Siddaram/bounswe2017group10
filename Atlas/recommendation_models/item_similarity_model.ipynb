{
 "cells": [
  {
   "cell_type": "markdown",
   "metadata": {},
   "source": [
    "# Item Similarity Model"
   ]
  },
  {
   "cell_type": "markdown",
   "metadata": {},
   "source": [
    "In our similarity model, we use the following information about cultural heritage items to determine their similarity."
   ]
  },
  {
   "cell_type": "markdown",
   "metadata": {},
   "source": [
    "## List of Features"
   ]
  },
  {
   "cell_type": "markdown",
   "metadata": {},
   "source": [
    "### 1. Hidden Tags\n",
    "Hidden tags are tags that are extracted from item description using Natural Language Processing techniques. In particular, we use [TextBlob](https://textblob.readthedocs.io/en/dev/) library to extract noun phrases from the descriptions. After finding hidden tags for each item, we find **the number of matching hidden tags** between two items."
   ]
  },
  {
   "cell_type": "markdown",
   "metadata": {},
   "source": [
    "### 2. User Entered Tags\n",
    "User entered tags give information about an item from the user perspective. We use **the number of matching tags** between two items."
   ]
  },
  {
   "cell_type": "markdown",
   "metadata": {},
   "source": [
    "### 3. Title\n",
    "Title string contains the most descriptive words about an item. We use **the number of matching noun phrases** between two items."
   ]
  },
  {
   "cell_type": "markdown",
   "metadata": {},
   "source": [
    "### 4. Location\n",
    "By using distance between two items in the model, we can find items close to each other. We use **distance between locations** in the following formula:\n",
    "\n",
    "$$\n",
    "\\begin{align*}\n",
    "    \\frac{C}{Distance(L_1, L_2)} \\quad \\quad \\text{where, } \\quad  & L_1: \\text{ Location of item 1} \\\\ \n",
    "                                                          & L_2: \\text{ Location of item 2} \\\\\n",
    "                                                          & C: \\text{ A constant to prevent very low values}\n",
    "\\end{align*}\n",
    "$$"
   ]
  },
  {
   "cell_type": "markdown",
   "metadata": {},
   "source": [
    "### 5. Time Average Difference\n",
    "By using the difference between time values of items, we can find items close in time. To find how close in time two items are, we use **the difference of average years** of two items as in the following formula:\n",
    "\n",
    "$$\n",
    "\\begin{align*}\n",
    "    \\frac{C}{|T_{avg_1} - T_{avg_2}|} \\quad \\quad \\text{where, } \\quad & T_{avg_1} = \\frac{T_{start_1} + T_{end_1}}{2} \\\\\n",
    "                                                                     & T_{avg_2} = \\frac{T_{start_2} + T_{end_2}}{2} \\\\\n",
    "                                                                     & C : \\text{A constant to prevent very low values}\n",
    "\\end{align*}\n",
    "$$"
   ]
  },
  {
   "cell_type": "markdown",
   "metadata": {},
   "source": [
    "### 6. Timeframe Overlapping Percentage\n",
    "How much two items overlap in terms of their timeframes is also important to find contemporary items, and also to avoid the mistake of comparing very small timeframes with very large ones. We define a timeframe and timeframe related operations as follows:\n",
    "\n",
    "$$\n",
    "\\begin{align*}\n",
    "    TF &= \\big(T_{start}, T_{end}) \\\\\n",
    "    TF_1 \\cup TF_2 &= \\big(min(T_{start_1}, T_{start_2}), max(T_{end_1}, T_{end_2}) \\big) \\\\\n",
    "    TF_2 \\cap TF_2 &= \\big(max(T_{start_1}, T_{start_2}), min(T_{end_1}, T_{end_2}) \\big) \\\\\n",
    "    Y(TF) &= T_{end} - T_{start}\n",
    "\\end{align*}\n",
    "$$\n",
    "\n",
    "\n",
    "Then, we find a number between 0 and 1 that represents the overlapping percentage of two timeframes using the following formula:\n",
    "\n",
    "$$\n",
    "\\begin{align*}\n",
    "    \\frac{Y(TF_1 \\cap TF_2)}{Y(TF_1 \\cup TF_2)}\n",
    "\\end{align*}\n",
    "$$"
   ]
  },
  {
   "cell_type": "markdown",
   "metadata": {},
   "source": [
    "## Combining"
   ]
  },
  {
   "cell_type": "markdown",
   "metadata": {},
   "source": [
    "Let the $k^{th}$ feature above be called $F^k$. After computing all the above features, we will combine them using a simple linear model with real valued coefficients as follows:\n",
    "\n",
    "$$ S_{i, j} = \\sum_{k = 1}^6 C_kF^k_{i, j} \\quad \\quad \\text{where, } \\quad C_k : \\text{Coefficient of feature $k$}, $$\n",
    "\n",
    "to find $S_{i, j}$: Similarity of item $i$ and item $j$."
   ]
  }
 ],
 "metadata": {
  "kernelspec": {
   "display_name": "Python 3",
   "language": "python",
   "name": "python3"
  },
  "language_info": {
   "codemirror_mode": {
    "name": "ipython",
    "version": 3
   },
   "file_extension": ".py",
   "mimetype": "text/x-python",
   "name": "python",
   "nbconvert_exporter": "python",
   "pygments_lexer": "ipython3",
   "version": "3.6.1"
  }
 },
 "nbformat": 4,
 "nbformat_minor": 2
}
