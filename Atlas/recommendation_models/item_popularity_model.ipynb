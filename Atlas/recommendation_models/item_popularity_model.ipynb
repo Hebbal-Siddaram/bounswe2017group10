{
 "cells": [
  {
   "cell_type": "markdown",
   "metadata": {},
   "source": [
    "# Item Popularity Model\n",
    "In our popularity model, we use the following information about an item to determine its popularity."
   ]
  },
  {
   "cell_type": "markdown",
   "metadata": {},
   "source": [
    "## List of Features"
   ]
  },
  {
   "cell_type": "markdown",
   "metadata": {},
   "source": [
    "### 1. Total View Seconds\n",
    "* **Rationale:** Popular items are more likely to be viewed more.\n",
    "\n",
    "**Total view seconds** of an item gives us information about how interesting an item is. We can use this information to make interesting items more popular. We define **total view seconds** of an item as the cumulative sum of seconds each user in our system has viewed an item."
   ]
  },
  {
   "cell_type": "markdown",
   "metadata": {},
   "source": [
    "### 2. Total Number of Comments\n",
    "* **Rationale:** Popular items are more likely to get more comments.\n",
    "\n",
    "We can use **total number of comments** to find which items are getting more comments. Items with more comments are likely to lead to discussions which might be interesting to the users."
   ]
  },
  {
   "cell_type": "markdown",
   "metadata": {},
   "source": [
    "### 3. Total Number of Favourites\n",
    "* **Rationale:** Popular items are more likely to get favourited.\n",
    "\n",
    "If an item gets a lot of favourites by our users, then it is a good item that should be shown to other users, as well."
   ]
  },
  {
   "cell_type": "markdown",
   "metadata": {},
   "source": [
    "### 4. Creator of the Item\n",
    "* **Rationale:** The same item can get more views created by different users\n",
    "\n",
    "We will use this feature in later stages."
   ]
  },
  {
   "cell_type": "markdown",
   "metadata": {},
   "source": [
    "### 5. Location\n",
    "* **Rationale:** Items created in popular areas could get more views.\n",
    "\n",
    "To use this feature, we first need to define **popular area**.\n",
    "\n",
    "We will use this feature in later stages."
   ]
  },
  {
   "cell_type": "markdown",
   "metadata": {},
   "source": [
    "### 6. Creation Time\n",
    "* **Rationale:** Items should loose popularity as they get older.\n",
    "\n",
    "We will use creation time according to the following requirements:\n",
    "\n",
    "1. Newly created items should have a high popularity number to make them visible to our users.\n",
    "2. Popularity of an item should decrease as time goes by to allow other, newly created items to be seen by our users.\n",
    "3. Consider two very old items with **time bonus 0**. In this case, item with more views, favourites, comments, etc.\n",
    "   should have a higher popularity number than the one with lower values."
   ]
  },
  {
   "cell_type": "markdown",
   "metadata": {},
   "source": [
    "### 7. Completeness\n",
    "* **Rationale:** Items with more content (description, tags, images, etc.) should have a higher popularity value\n",
    "  1. to make them more likely to be seen by our users,\n",
    "  2. to punish items with poor content.\n",
    "  \n",
    "To use completeness, we first need to define it.\n",
    "\n",
    "#### Description Completeness\n",
    "A description is considered complete if, and only if, it contains at least **10 noun phrases**.\n",
    "\n",
    "#### Tag Completeness\n",
    "Tags are considered complete if, and only if, their number is at least **2**.\n",
    "\n",
    "#### Image Completeness\n",
    "Images are considered complete if, and only if, their number is at least **1**.\n",
    "\n",
    "#### Location Completeness\n",
    "Location is considered complete if, and only if, it is **added**.\n",
    "\n",
    "#### Completeness Definition\n",
    "Define the following random variables:\n",
    "\n",
    "$$\n",
    "\\begin{align*}\n",
    "    C_1 &: \\text{Description is complete} \\\\\n",
    "    C_2 &: \\text{Tags are complete} \\\\\n",
    "    C_3 &: \\text{Images are complete} \\\\\n",
    "    C_4 &: \\text{Location is complete} \\\\\n",
    "\\end{align*}\n",
    "$$\n",
    "\n",
    "Then, **completeness** of item $i$, $COMP_i$, is defined as follows:\n",
    "\n",
    "$$COMP_i = I(C_1) + I(C_2) + I(C_3) + I(C_4) \\quad \\quad \\text{where, } \\quad \\text{$I$ is the indicator function}$$"
   ]
  },
  {
   "cell_type": "markdown",
   "metadata": {},
   "source": [
    "## Combining\n",
    "We combine the above features to find the popularity of an item.\n",
    "\n",
    "Let $V$ represent the **admiration** of item $i$. We define $V$ as follows:\n",
    "\n",
    "$$\n",
    "\\begin{align*}\n",
    "V_i = C_1F_1 + C_2F_2 + C_3F_3 \\quad \\quad \\text{where, } \\quad & F_1: \\text{Total view seconds of item $i$} \\\\\n",
    "                                                                & F_2: \\text{Total number of comments of item $i$} \\\\\n",
    "                                                                & F_3: \\text{Total number of favourites of item $i$} \\\\\n",
    "                                                                & C_k: \\text{Coefficient of feature $k$ for $k \\in \\{1, 2, 3\\}$}\n",
    "\\end{align*}\n",
    "$$\n",
    "\n",
    "Then, **popularity score** of item $i$, $POP_i$, is defined as follows:\n",
    "\n",
    "$$\n",
    "\\begin{align*}\n",
    "    POP_i = log_{10}V_i + C_7COMP_i \\quad \\quad \\text{where, } \\quad & C_7: \\text{Coefficient of item completeness} \\\\\n",
    "\\end{align*}\n",
    "$$\n",
    "\n",
    "And, **trending score** of item $i$, $TREND_i$, is defined as follows:\n",
    "\n",
    "$$\n",
    "\\begin{align*}\n",
    "    TREND_i = POP_i + max(0, K - T_s) \\quad \\quad \\text{where, } \\quad & K: \\text{Initial value given to newly created items} \\\\\n",
    "                                                                       & T_s: T_{now} - T_{create}\n",
    "\\end{align*}\n",
    "$$\n",
    "\n",
    "### Explanation\n",
    "\n",
    "#### Definitions\n",
    "**Admiration** of an item represents how much an item is liked by our userbase. We will find $V$ by combining the features with carefully chosen coefficients. These coefficients should reflect our beliefs about how important a particular feature should be when determining the admiration level of an item.\n",
    "\n",
    "**Completeness** of an item represents how much content an item contains. This is an important consideration for popularity since it allows us to show better items.\n",
    "\n",
    "**Popularity score** of an item represents how likely it is that, this item will be one that a user will prefer over some other item.\n",
    "\n",
    "**Trending score** adds an additional factor over popularity, which is the time since the item's creation. By using this information, we will show fresh items with good content.\n",
    "\n",
    "#### Methods\n",
    "When computing popularity, we take $log$ of admiration level. This relies on the following reasoning: When an item gets admired by some users, its popularity number increases. This results in the item in consideration to be seen by more users, which in turn increases the item's chances of getting more views, favourites, etc. Hence, it makes sense to give equal value to the first 10 comments, and the next 100 comments.\n",
    "\n",
    "Finally, apart from their completeness, each item starts on equal grounds. However, compared with older items, we give higher popularity number to new items to make them more likely to be seen by our users. When a certain amount of time passes (when $T_s > K$), we stop changing the item's popularity with respect to its creation time, and solely rely on its intrinsic and popular value."
   ]
  }
 ],
 "metadata": {
  "kernelspec": {
   "display_name": "Python 3",
   "language": "python",
   "name": "python3"
  },
  "language_info": {
   "codemirror_mode": {
    "name": "ipython",
    "version": 3
   },
   "file_extension": ".py",
   "mimetype": "text/x-python",
   "name": "python",
   "nbconvert_exporter": "python",
   "pygments_lexer": "ipython3",
   "version": "3.6.1"
  }
 },
 "nbformat": 4,
 "nbformat_minor": 2
}
